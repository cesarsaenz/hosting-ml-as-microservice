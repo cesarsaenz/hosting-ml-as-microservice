{
  "nbformat": 4,
  "nbformat_minor": 0,
  "metadata": {
    "anaconda-cloud": {},
    "kernelspec": {
      "display_name": "Python 3",
      "language": "python",
      "name": "python3"
    },
    "language_info": {
      "codemirror_mode": {
        "name": "ipython",
        "version": 2
      },
      "file_extension": ".py",
      "mimetype": "text/x-python",
      "name": "python",
      "nbconvert_exporter": "python",
      "pygments_lexer": "ipython2",
      "version": "2.7.3"
    },
    "pycharm": {
      "stem_cell": {
        "cell_type": "raw",
        "metadata": {
          "collapsed": false
        },
        "source": []
      }
    },
    "colab": {
      "name": "score_reviews_via_service.ipynb",
      "provenance": []
    }
  },
  "cells": [
    {
      "cell_type": "markdown",
      "metadata": {
        "id": "IiLPPO1NaCjf",
        "colab_type": "text"
      },
      "source": [
        "## Part 1: Existing Machine Learning Services\n",
        "\n",
        "<a href=\"https://colab.research.google.com/github/peckjon/hosting-ml-as-microservice/blob/master/part1/score_reviews_via_service.ipynb\" target=\"_parent\"><img src=\"https://colab.research.google.com/assets/colab-badge.svg\" alt=\"Open In Colab\"/></a>"
      ]
    },
    {
      "cell_type": "markdown",
      "metadata": {
        "id": "QsCY4y1GaCjg",
        "colab_type": "text"
      },
      "source": [
        "### Obtain labelled reviews\n",
        "\n",
        "In order to test any of the sentiment analysis APIs, we need a labelled dataset of reviews and their sentiment polarity. We'll use NLTK to download the movie_reviews corpus."
      ]
    },
    {
      "cell_type": "code",
      "metadata": {
        "pycharm": {
          "name": "#%%\n"
        },
        "id": "hoazEU1OaCji",
        "colab_type": "code",
        "colab": {
          "base_uri": "https://localhost:8080/",
          "height": 68
        },
        "outputId": "caca1d35-b6f2-4cce-f4df-e51f5337a88e"
      },
      "source": [
        "from nltk import download\n",
        "\n",
        "download('movie_reviews')"
      ],
      "execution_count": 20,
      "outputs": [
        {
          "output_type": "stream",
          "text": [
            "[nltk_data] Downloading package movie_reviews to /root/nltk_data...\n",
            "[nltk_data]   Unzipping corpora/movie_reviews.zip.\n"
          ],
          "name": "stdout"
        },
        {
          "output_type": "execute_result",
          "data": {
            "text/plain": [
              "True"
            ]
          },
          "metadata": {
            "tags": []
          },
          "execution_count": 20
        }
      ]
    },
    {
      "cell_type": "markdown",
      "metadata": {
        "id": "-VWel0JNaCjn",
        "colab_type": "text"
      },
      "source": [
        "### Load the data\n",
        "\n",
        "The files in movie_reviews have already been divided into two sets: positive ('pos') and negative ('neg'), so we can load the raw text of the reviews into two lists, one for each polarity."
      ]
    },
    {
      "cell_type": "code",
      "metadata": {
        "id": "ZbSMgzeQaCjp",
        "colab_type": "code",
        "colab": {}
      },
      "source": [
        "from nltk.corpus import movie_reviews\n",
        "\n",
        "# extract words from reviews, pair with label\n",
        "\n",
        "reviews_pos = []\n",
        "for fileid in movie_reviews.fileids('pos'):\n",
        "    review = movie_reviews.raw(fileid)\n",
        "    reviews_pos.append(review)\n",
        "\n",
        "reviews_neg = []\n",
        "for fileid in movie_reviews.fileids('neg'):\n",
        "    review = movie_reviews.raw(fileid)\n",
        "    reviews_neg.append(review)"
      ],
      "execution_count": 21,
      "outputs": []
    },
    {
      "cell_type": "markdown",
      "metadata": {
        "id": "LYF_kXtjaCjs",
        "colab_type": "text"
      },
      "source": [
        "### Connect to the scoring API\n",
        "\n",
        "Fill in this function with code that connects to one of these APIs, and uses it to score a single review:\n",
        "\n",
        "* [Amazon Comprehend: Detect Sentiment](https://docs.aws.amazon.com/comprehend/latest/dg/API_DetectSentiment.html)\n",
        "* [Google Natural Language: Analyzing Sentiment](https://cloud.google.com/natural-language/docs/analyzing-sentiment)\n",
        "* [Azure Cognitive Services: Sentiment Analysis](https://docs.microsoft.com/en-us/azure/cognitive-services/text-analytics/how-tos/text-analytics-how-to-sentiment-analysis)\n",
        "* [Algorithmia: Sentiment Analysis](https://algorithmia.com/algorithms/nlp/SentimentAnalysis)\n",
        "\n",
        "Your function must return either 'pos' or 'neg', so you'll need to make some decisions about how to map the results of the API call to one of these values. For example, Amazon Comprehend can return \"NEUTRAL\" or \"MIXED\" for the Sentiment -- if this happens, you may with to inspect the numeric values under the SentimentScore to see whether it leans toward positive or negative.\n"
      ]
    },
    {
      "cell_type": "code",
      "metadata": {
        "id": "m5SfJdpqy8uI",
        "colab_type": "code",
        "colab": {}
      },
      "source": [
        "import boto3\n",
        "client = boto3.client('comprehend')\n"
      ],
      "execution_count": 27,
      "outputs": []
    },
    {
      "cell_type": "code",
      "metadata": {
        "id": "TqqHXYpxaCjt",
        "colab_type": "code",
        "colab": {}
      },
      "source": [
        "\n",
        "def score_review(review):\n",
        "    result = client.detect_sentiment(Text=text, LanguageCode='en')\n",
        "    if result['Sentiment'] == 'POSITIVE':\n",
        "      return 'pos'\n",
        "    else:\n",
        "      if result['Sentiment'] == 'NEGATIVE':\n",
        "        return 'neg'\n",
        "      else:\n",
        "        if result['SentimentScore']['Negative'] > result['SentimentScore']['Positive']:\n",
        "          return 'neg'\n",
        "        else:\n",
        "          return 'pos'    "
      ],
      "execution_count": 28,
      "outputs": []
    },
    {
      "cell_type": "markdown",
      "metadata": {
        "id": "HuvRb_GTaCjv",
        "colab_type": "text"
      },
      "source": [
        "### Score each review\n",
        "\n",
        "Now, we can use the function you defined to score each of the reviews"
      ]
    },
    {
      "cell_type": "code",
      "metadata": {
        "id": "t5g_F59DaCjw",
        "colab_type": "code",
        "colab": {}
      },
      "source": [
        "results_pos = []\n",
        "for review in reviews_pos:\n",
        "    result = score_review(review)\n",
        "    results_pos.append(result)\n",
        "\n",
        "results_neg = []\n",
        "for review in reviews_neg:\n",
        "    result = score_review(review)\n",
        "    results_neg.append(result)"
      ],
      "execution_count": 30,
      "outputs": []
    },
    {
      "cell_type": "markdown",
      "metadata": {
        "id": "wtjo4WZeaCjz",
        "colab_type": "text"
      },
      "source": [
        "### Calculate accuracy\n",
        "\n",
        "For each of our known positive reviews, we can count the number which our function scored as 'pos', and use this to calculate the % accuracy. We repeaty this for negative reviews, and also for overall accuracy."
      ]
    },
    {
      "cell_type": "code",
      "metadata": {
        "id": "wZPIq5rzaCjz",
        "colab_type": "code",
        "colab": {
          "base_uri": "https://localhost:8080/",
          "height": 68
        },
        "outputId": "3a8681ff-78f4-4b09-cb9a-325b4b306c22"
      },
      "source": [
        "correct_pos = results_pos.count('pos')\n",
        "accuracy_pos = float(correct_pos) / len(results_pos)\n",
        "correct_neg = results_neg.count('neg')\n",
        "accuracy_neg = float(correct_neg) / len(results_neg)\n",
        "correct_all = correct_pos + correct_neg\n",
        "accuracy_all = float(correct_all) / (len(results_pos)+len(results_neg))\n",
        "\n",
        "print('Positive reviews: {}% correct'.format(accuracy_pos*100))\n",
        "print('Negative reviews: {}% correct'.format(accuracy_neg*100))\n",
        "print('Overall accuracy: {}% correct'.format(accuracy_all*100))"
      ],
      "execution_count": 31,
      "outputs": [
        {
          "output_type": "stream",
          "text": [
            "Positive reviews: 0.0% correct\n",
            "Negative reviews: 100.0% correct\n",
            "Overall accuracy: 50.0% correct\n"
          ],
          "name": "stdout"
        }
      ]
    }
  ]
}